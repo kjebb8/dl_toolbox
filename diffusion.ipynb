{
  "cells": [
    {
      "cell_type": "markdown",
      "metadata": {
        "id": "avqWHxthRQUa"
      },
      "source": [
        "# Diffusion Model\n",
        "\n",
        "Sources:\n",
        "- https://medium.com/@mickael.boillaud/denoising-diffusion-model-from-scratch-using-pytorch-658805d293b4\n",
        "- https://theaisummer.com/diffusion-models/\n",
        "- https://github.com/dome272/Diffusion-Models-pytorch"
      ]
    },
    {
      "cell_type": "markdown",
      "metadata": {
        "id": "TFrKOcol7v4I"
      },
      "source": [
        "## DDPM\n",
        "\n",
        "Notes:\n",
        "- DDPM = Denoising Diffusion Probabilistic Model\n",
        "- Initially proposed in a 2020 paper (https://arxiv.org/abs/2006.11239)\n",
        "- Creates both diverse (VAE) and realistic (GAN) samples based on training data\n",
        "\n",
        "Overview:\n",
        "- Transforming a simple distribution (gaussian) through a series of diffusion steps can result in a complex data distribution (the opposite is true as well for transforming an image to be gaussian)\n",
        "- Forward process: Fixed, non-learnable process to create noisy images\n",
        "- Backward process: Use a ML model to denoise the image - The backward process uses a parameterized model because it cannot assume to know the final image, as with the forward pass.\n",
        "- The optimization objective is the likelihood that the parameterized model produces and original image (x0), which comes from the training set"
      ]
    },
    {
      "cell_type": "markdown",
      "metadata": {
        "id": "8sPuKO409p3c"
      },
      "source": [
        "### Forward Process\n",
        "\n",
        "- Over T steps, add a small amount of gaussian noise to the image from the previous step\n",
        "- Uses Markov chain, so only the previous sample is needed - this allows for streamlined computations (simple equation can evaluate xt from xo if using a fixed variance schedule)\n",
        "- 1000 forward steps were proposed in the paper (the variance parameter can be fixed, variable or learned over the time steps)"
      ]
    },
    {
      "cell_type": "markdown",
      "metadata": {
        "id": "ymXRGmNcEm5s"
      },
      "source": [
        "### Backward Process\n",
        "\n",
        "- Need a function to denoise images, step by step, to generate the correct outcome\n",
        "- In theory, it could learn to predict the mean of the distribution that is added in each diffusion step, but instead we try to predict only the noise added to the mean since the other components of the mean are constant\n",
        "- The prediction is a function of the noisy image xt, and the timestep t (both inputs to the model)\n",
        "- The optimization objective is to minimize the KL divergence between the forward (known) and backward (predicted) distributions at time t-1."
      ]
    },
    {
      "cell_type": "markdown",
      "metadata": {
        "id": "YzCfPgeIksCY"
      },
      "source": [
        "### Training and Sampling\n",
        "\n",
        "- For each image in the dataset, randomly select a timestamp within the range [0, T] and compute the forward diffusion, yielding the original? image, the noisy image, and the applied noise\n",
        "- Use U-net model and backpropagation to predict the noise given the noisy image\n",
        "- KL divergence is used as the loss between the predicted and actual noise distributions (latent space will adhere to gaussian structure)\n",
        "- To sample, start with a completely noisy image, then apply the backward process T times\n",
        "\n"
      ]
    },
    {
      "cell_type": "markdown",
      "metadata": {
        "id": "f0Ab8O75muRA"
      },
      "source": [
        "### Model\n",
        "\n",
        "- Uses the U-net model, which has inputs and outputs of the same size\n",
        "- Uses ConvNext Block with encodes the time dimension (t) and adds to a CNN residual block"
      ]
    },
    {
      "cell_type": "markdown",
      "metadata": {
        "id": "YxJzXkWGwdQZ"
      },
      "source": [
        "### Code"
      ]
    },
    {
      "cell_type": "code",
      "execution_count": 87,
      "metadata": {
        "colab": {
          "base_uri": "https://localhost:8080/"
        },
        "id": "IxKR7yAo1ccG",
        "outputId": "22604cfc-906e-4c9d-9910-601ae1da8c53"
      },
      "outputs": [
        {
          "name": "stdout",
          "output_type": "stream",
          "text": [
            "Requirement already satisfied: einops in /usr/local/lib/python3.10/dist-packages (0.8.0)\n",
            "Requirement already satisfied: ema_pytorch in /usr/local/lib/python3.10/dist-packages (0.5.0)\n",
            "Requirement already satisfied: beartype in /usr/local/lib/python3.10/dist-packages (from ema_pytorch) (0.18.5)\n",
            "Requirement already satisfied: torch>=1.6 in /usr/local/lib/python3.10/dist-packages (from ema_pytorch) (2.3.0+cu121)\n",
            "Requirement already satisfied: filelock in /usr/local/lib/python3.10/dist-packages (from torch>=1.6->ema_pytorch) (3.14.0)\n",
            "Requirement already satisfied: typing-extensions>=4.8.0 in /usr/local/lib/python3.10/dist-packages (from torch>=1.6->ema_pytorch) (4.12.2)\n",
            "Requirement already satisfied: sympy in /usr/local/lib/python3.10/dist-packages (from torch>=1.6->ema_pytorch) (1.12.1)\n",
            "Requirement already satisfied: networkx in /usr/local/lib/python3.10/dist-packages (from torch>=1.6->ema_pytorch) (3.3)\n",
            "Requirement already satisfied: jinja2 in /usr/local/lib/python3.10/dist-packages (from torch>=1.6->ema_pytorch) (3.1.4)\n",
            "Requirement already satisfied: fsspec in /usr/local/lib/python3.10/dist-packages (from torch>=1.6->ema_pytorch) (2023.6.0)\n",
            "Requirement already satisfied: nvidia-cuda-nvrtc-cu12==12.1.105 in /usr/local/lib/python3.10/dist-packages (from torch>=1.6->ema_pytorch) (12.1.105)\n",
            "Requirement already satisfied: nvidia-cuda-runtime-cu12==12.1.105 in /usr/local/lib/python3.10/dist-packages (from torch>=1.6->ema_pytorch) (12.1.105)\n",
            "Requirement already satisfied: nvidia-cuda-cupti-cu12==12.1.105 in /usr/local/lib/python3.10/dist-packages (from torch>=1.6->ema_pytorch) (12.1.105)\n",
            "Requirement already satisfied: nvidia-cudnn-cu12==8.9.2.26 in /usr/local/lib/python3.10/dist-packages (from torch>=1.6->ema_pytorch) (8.9.2.26)\n",
            "Requirement already satisfied: nvidia-cublas-cu12==12.1.3.1 in /usr/local/lib/python3.10/dist-packages (from torch>=1.6->ema_pytorch) (12.1.3.1)\n",
            "Requirement already satisfied: nvidia-cufft-cu12==11.0.2.54 in /usr/local/lib/python3.10/dist-packages (from torch>=1.6->ema_pytorch) (11.0.2.54)\n",
            "Requirement already satisfied: nvidia-curand-cu12==10.3.2.106 in /usr/local/lib/python3.10/dist-packages (from torch>=1.6->ema_pytorch) (10.3.2.106)\n",
            "Requirement already satisfied: nvidia-cusolver-cu12==11.4.5.107 in /usr/local/lib/python3.10/dist-packages (from torch>=1.6->ema_pytorch) (11.4.5.107)\n",
            "Requirement already satisfied: nvidia-cusparse-cu12==12.1.0.106 in /usr/local/lib/python3.10/dist-packages (from torch>=1.6->ema_pytorch) (12.1.0.106)\n",
            "Requirement already satisfied: nvidia-nccl-cu12==2.20.5 in /usr/local/lib/python3.10/dist-packages (from torch>=1.6->ema_pytorch) (2.20.5)\n",
            "Requirement already satisfied: nvidia-nvtx-cu12==12.1.105 in /usr/local/lib/python3.10/dist-packages (from torch>=1.6->ema_pytorch) (12.1.105)\n",
            "Requirement already satisfied: triton==2.3.0 in /usr/local/lib/python3.10/dist-packages (from torch>=1.6->ema_pytorch) (2.3.0)\n",
            "Requirement already satisfied: nvidia-nvjitlink-cu12 in /usr/local/lib/python3.10/dist-packages (from nvidia-cusolver-cu12==11.4.5.107->torch>=1.6->ema_pytorch) (12.5.40)\n",
            "Requirement already satisfied: MarkupSafe>=2.0 in /usr/local/lib/python3.10/dist-packages (from jinja2->torch>=1.6->ema_pytorch) (2.1.5)\n",
            "Requirement already satisfied: mpmath<1.4.0,>=1.1.0 in /usr/local/lib/python3.10/dist-packages (from sympy->torch>=1.6->ema_pytorch) (1.3.0)\n"
          ]
        }
      ],
      "source": [
        "%pip install einops\n",
        "%pip install ema_pytorch"
      ]
    },
    {
      "cell_type": "code",
      "execution_count": 88,
      "metadata": {
        "id": "GoGfY2mCwcBF"
      },
      "outputs": [],
      "source": [
        "import os\n",
        "import math\n",
        "\n",
        "import numpy as np\n",
        "import torch\n",
        "import torch.nn as nn\n",
        "from torch import optim\n",
        "from torch.utils.data import DataLoader\n",
        "from torch.utils.tensorboard import SummaryWriter\n",
        "import torchvision.datasets as dset\n",
        "import torchvision.transforms as transforms\n",
        "import torchvision.utils as vutils\n",
        "from ema_pytorch import EMA\n",
        "from einops.layers.torch import Rearrange\n",
        "from einops import rearrange\n",
        "\n",
        "from matplotlib import pyplot as plt\n",
        "from tqdm import tqdm\n",
        "from pathlib import Path\n",
        "\n",
        "import logging"
      ]
    },
    {
      "cell_type": "code",
      "execution_count": 89,
      "metadata": {
        "id": "q9s1tZ6mofll"
      },
      "outputs": [],
      "source": [
        "class ConvNextBlock(nn.Module):\n",
        "    def __init__(self, in_channels, out_channels, mult=2, time_embd_dim=None, norm=True):\n",
        "        super().__init__()\n",
        "        self.mlp = (\n",
        "            nn.Sequential(nn.GELU(), nn.Linear(time_embd_dim, in_channels))\n",
        "            if time_embd_dim\n",
        "            else None\n",
        "        )\n",
        "\n",
        "        self.in_conv = nn.Conv2d(\n",
        "            in_channels, in_channels, 7, padding=3, groups=in_channels\n",
        "        )\n",
        "\n",
        "        self.block = nn.Sequential(\n",
        "            nn.GroupNorm(1, in_channels) if norm else nn.Identity(),\n",
        "            nn.Conv2d(in_channels, out_channels * mult, 3, padding=1),\n",
        "            nn.GELU(),\n",
        "            nn.GroupNorm(1, out_channels * mult) if norm else nn.Identity(),\n",
        "            nn.Conv2d(out_channels * mult, out_channels, 3, padding=1),\n",
        "        )\n",
        "\n",
        "        self.residual_conv = (\n",
        "            nn.Conv2d(in_channels, out_channels, 1)\n",
        "            if in_channels != out_channels\n",
        "            else nn.Identity()\n",
        "        )\n",
        "\n",
        "    def forward(self, x, time_embedding=None):\n",
        "        h = self.in_conv(x)\n",
        "        if self.mlp is not None and time_embedding is not None:\n",
        "            h = h + rearrange(self.mlp(time_embedding), \"b c -> b c 1 1\")\n",
        "        h = self.block(h)\n",
        "        return h + self.residual_conv(x)"
      ]
    },
    {
      "cell_type": "code",
      "execution_count": 90,
      "metadata": {
        "id": "6C50pVZvvPZN"
      },
      "outputs": [],
      "source": [
        "# Common positional encoding method\n",
        "class SinusoidalPosEmb(nn.Module):\n",
        "    def __init__(self, dim, theta=10000):\n",
        "        super().__init__()\n",
        "        self.dim = dim\n",
        "        self.theta = theta\n",
        "\n",
        "    def forward(self, x):\n",
        "        device = x.device\n",
        "        half_dim = self.dim // 2\n",
        "        emb = math.log(self.theta) / (half_dim - 1)\n",
        "        emb = torch.exp(torch.arange(half_dim, device=device) * -emb)\n",
        "        emb = x[:, None] * emb[None, :]\n",
        "        emb = torch.cat((emb.sin(), emb.cos()), dim=-1)\n",
        "        return emb"
      ]
    },
    {
      "cell_type": "code",
      "execution_count": 91,
      "metadata": {
        "id": "Jfb8BUzvw6Vb"
      },
      "outputs": [],
      "source": [
        "# Performance improvement from down/up sampling\n",
        "class DownSample(nn.Module):\n",
        "    def __init__(self, dim_in, dim_out):\n",
        "        super().__init__()\n",
        "        self.net = nn.Sequential(\n",
        "            Rearrange(\"b c (h p1) (w p2) -> b (c p1 p2) h w\", p1=2, p2=2),\n",
        "            nn.Conv2d(dim_in * 4, dim_out, 1),\n",
        "        )\n",
        "\n",
        "    def forward(self, x):\n",
        "        return self.net(x)\n",
        "\n",
        "\n",
        "class Upsample(nn.Module):\n",
        "    def __init__(self, dim_in, dim_out):\n",
        "        super().__init__()\n",
        "        self.net = nn.Sequential(\n",
        "            nn.Upsample(scale_factor=2, mode=\"nearest\"),\n",
        "            nn.Conv2d(dim_in, dim_out, kernel_size=3, padding=1),\n",
        "        )\n",
        "\n",
        "    def forward(self, x):\n",
        "        return self.net(x)"
      ]
    },
    {
      "cell_type": "code",
      "execution_count": 92,
      "metadata": {
        "id": "4-YzlOVNxWd8"
      },
      "outputs": [],
      "source": [
        "# Multi-Layer Perceptron (MLP) for the time (t) input to each block\n",
        "class TimeEmb(nn.Module):\n",
        "    def __init__(self, dim, time_dim):\n",
        "        super().__init__()\n",
        "\n",
        "        self.time_mlp = nn.Sequential(\n",
        "            SinusoidalPosEmb(dim, theta=10000),\n",
        "            nn.Linear(dim, time_dim),\n",
        "            nn.GELU(),\n",
        "            nn.Linear(time_dim, time_dim),\n",
        "        )\n",
        "\n",
        "    def forward(self, x):\n",
        "        return self.time_mlp(x)"
      ]
    },
    {
      "cell_type": "code",
      "execution_count": 93,
      "metadata": {
        "id": "kBchgCAUyHw-"
      },
      "outputs": [],
      "source": [
        "# Attention block between the residual connections and the upsampling half of the UNet to enhance the interaction\n",
        "class BlockAttention(nn.Module):\n",
        "    def __init__(self, gate_in_channel, residual_in_channel):\n",
        "        super().__init__()\n",
        "        self.gate_conv = nn.Conv2d(gate_in_channel, gate_in_channel, kernel_size=1, stride=1)\n",
        "        self.residual_conv = nn.Conv2d(residual_in_channel, gate_in_channel, kernel_size=1, stride=1)\n",
        "        self.in_conv = nn.Conv2d(gate_in_channel, 1, kernel_size=1, stride=1) # Add l/w?\n",
        "        self.relu = nn.ReLU()\n",
        "        self.sigmoid = nn.Sigmoid()\n",
        "\n",
        "    def forward(self, g, x) -> torch.Tensor:\n",
        "        in_attention = self.relu(self.gate_conv(g) + self.residual_conv(x))\n",
        "        in_attention = self.in_conv(in_attention)\n",
        "        in_attention = self.sigmoid(in_attention)\n",
        "        return in_attention * x"
      ]
    },
    {
      "cell_type": "code",
      "execution_count": 94,
      "metadata": {
        "id": "wfeiKbaDz1G3"
      },
      "outputs": [],
      "source": [
        "class TwoResUNet(nn.Module):\n",
        "    def __init__(self, dim=64, dim_mults=(1, 1, 2, 4, 8, 8), io_channels=3, num_classes=None):\n",
        "        super().__init__()\n",
        "        self.io_channels = io_channels\n",
        "        self.dim = dim\n",
        "        self.init_conv = nn.Conv2d(io_channels, self.dim, 7, padding=3) # (128 + 2*3) - (7-1) = 128\n",
        "\n",
        "        dims = [*map(lambda m: self.dim * m, dim_mults)] # (64, 64, 128, 256, 512, 512)\n",
        "        in_out = list(zip(dims[:-1], dims[1:])) # [(a,b), (b,c), (c,d)]\n",
        "\n",
        "        time_dim = dim * 4\n",
        "        self.time_mlp = TimeEmb(dim, time_dim)\n",
        "\n",
        "        if num_classes is not None:\n",
        "            self.label_emb = nn.Embedding(num_classes, time_dim)\n",
        "\n",
        "        self.downs = nn.ModuleList([])\n",
        "        self.ups = nn.ModuleList([])\n",
        "        num_resolutions = len(in_out) - 1 # The first/last dim pair is excluded in the down/up paths\n",
        "\n",
        "        for ind, (dim_in, dim_out) in enumerate(in_out[1:]):\n",
        "            is_last = ind >= (num_resolutions - 1)\n",
        "\n",
        "            self.downs.append(\n",
        "                nn.ModuleList(\n",
        "                    [\n",
        "                        ConvNextBlock(\n",
        "                            in_channels=dim_in,\n",
        "                            out_channels=dim_in,\n",
        "                            time_embd_dim=time_dim,\n",
        "                        ),\n",
        "                        ConvNextBlock(\n",
        "                            in_channels=dim_in,\n",
        "                            out_channels=dim_in,\n",
        "                            time_embd_dim=time_dim,\n",
        "                        ),\n",
        "                        DownSample(dim_in, dim_out)\n",
        "                        if not is_last\n",
        "                        else nn.Conv2d(dim_in, dim_out, 3, padding=1),\n",
        "                    ]\n",
        "                )\n",
        "            )\n",
        "\n",
        "        # Single mid block\n",
        "        mid_dim = dims[-1]\n",
        "        self.mid_block = ConvNextBlock(mid_dim, mid_dim, time_embd_dim=time_dim)\n",
        "\n",
        "        for ind, (dim_out, dim_in) in enumerate(reversed(in_out[:-1])):\n",
        "            is_last = ind == (num_resolutions - 1)\n",
        "\n",
        "            self.ups.append(\n",
        "                nn.ModuleList(\n",
        "                    [\n",
        "                        ConvNextBlock(\n",
        "                            in_channels=dim_in + dim_in, # Residual is concatenated\n",
        "                            out_channels=dim_in,\n",
        "                            time_embd_dim=time_dim,\n",
        "                        ),\n",
        "                        ConvNextBlock(\n",
        "                            in_channels=dim_in + dim_in, # Residual is concatenated\n",
        "                            out_channels=dim_in,\n",
        "                            time_embd_dim=time_dim,\n",
        "                        ),\n",
        "                        Upsample(dim_in, dim_out)\n",
        "                        if not is_last\n",
        "                        else nn.Conv2d(dim_in, dim_out, 3, padding=1)\n",
        "                    ]\n",
        "                )\n",
        "            )\n",
        "\n",
        "        self.final_res_block = ConvNextBlock(dim + dim, dim, time_embd_dim=time_dim)\n",
        "        self.final_conv = nn.Conv2d(dim, io_channels, 1)\n",
        "\n",
        "    def forward(self, x, t, y=None):\n",
        "        b, _, h, w = x.shape\n",
        "        x = self.init_conv(x) # 3 channels -> 64 channels\n",
        "        r = x.clone()\n",
        "        t = self.time_mlp(t)\n",
        "\n",
        "        if y is not None:\n",
        "            t += self.label_emb(y)\n",
        "\n",
        "        unet_stack = []\n",
        "        for down1, down2, downsample in self.downs:\n",
        "            x = down1(x, t)\n",
        "            unet_stack.append(x)\n",
        "            x = down2(x, t)\n",
        "            unet_stack.append(x)\n",
        "            x = downsample(x)\n",
        "\n",
        "        x = self.mid_block(x, t)\n",
        "\n",
        "        for up1, up2, upsample in self.ups:\n",
        "            x = torch.cat((x, unet_stack.pop()), dim=1)\n",
        "            x = up1(x, t)\n",
        "            x = torch.cat((x, unet_stack.pop()), dim=1)\n",
        "            x = up2(x, t)\n",
        "            x = upsample(x)\n",
        "\n",
        "        x = torch.cat((x, r), dim=1)\n",
        "        x = self.final_res_block(x, t)\n",
        "\n",
        "        return self.final_conv(x)\n",
        "\n",
        "# print(TwoResUNet())"
      ]
    },
    {
      "cell_type": "code",
      "execution_count": 95,
      "metadata": {
        "id": "ZuMjmyiK126D"
      },
      "outputs": [],
      "source": [
        "class AttentionUNet(nn.Module):\n",
        "    def __init__(self, dim=64, dim_mults=(1, 1, 2, 4, 8, 8), io_channels=3, pos_emb_theta=10000):\n",
        "        super().__init__()\n",
        "        self.io_channels = io_channels\n",
        "        self.dim = dim\n",
        "        self.init_conv = nn.Conv2d(io_channels, self.dim, 7, padding=3) # (128 + 2*3) - (7-1) = 128\n",
        "\n",
        "        dims = [*map(lambda m: self.dim * m, dim_mults)] # (64, 64, 128, 256, 512, 512)\n",
        "        in_out = list(zip(dims[:-1], dims[1:])) # [(a,b), (b,c), (c,d)]\n",
        "\n",
        "        time_dim = dim * 4\n",
        "        self.time_mlp = TimeEmb(dim, time_dim)\n",
        "\n",
        "        self.downs = nn.ModuleList([])\n",
        "        self.ups = nn.ModuleList([])\n",
        "        num_resolutions = len(in_out) - 1 # The first/last dim pair is excluded in the down/up paths\n",
        "\n",
        "        for ind, (dim_in, dim_out) in enumerate(in_out[1:]):\n",
        "            is_last = ind >= (num_resolutions - 1)\n",
        "\n",
        "            self.downs.append(\n",
        "                nn.ModuleList(\n",
        "                    [\n",
        "                        ConvNextBlock(\n",
        "                            in_channels=dim_in,\n",
        "                            out_channels=dim_in,\n",
        "                            time_embd_dim=time_dim,\n",
        "                        ),\n",
        "                        ConvNextBlock(\n",
        "                            in_channels=dim_in,\n",
        "                            out_channels=dim_in,\n",
        "                            time_embd_dim=time_dim,\n",
        "                        ),\n",
        "                        DownSample(dim_in, dim_out)\n",
        "                        if not is_last\n",
        "                        else nn.Conv2d(dim_in, dim_out, 3, padding=1),\n",
        "                    ]\n",
        "                )\n",
        "            )\n",
        "\n",
        "        # Single mid block\n",
        "        mid_dim = dims[-1]\n",
        "        self.mid_block = ConvNextBlock(mid_dim, mid_dim, time_embd_dim=time_dim)\n",
        "\n",
        "        for ind, (dim_out, dim_in) in enumerate(reversed(in_out[:-1])):\n",
        "            is_last = ind == (num_resolutions - 1)\n",
        "\n",
        "            self.ups.append(\n",
        "                nn.ModuleList(\n",
        "                    [\n",
        "                        BlockAttention(dim_in, dim_in),\n",
        "                        ConvNextBlock(\n",
        "                            in_channels=dim_in + dim_in, # Residual is concatenated\n",
        "                            out_channels=dim_in,\n",
        "                            time_embd_dim=time_dim,\n",
        "                        ),\n",
        "                        ConvNextBlock(\n",
        "                            in_channels=dim_in + dim_in, # Residual is concatenated\n",
        "                            out_channels=dim_in,\n",
        "                            time_embd_dim=time_dim,\n",
        "                        ),\n",
        "                        Upsample(dim_in, dim_out)\n",
        "                        if not is_last\n",
        "                        else nn.Conv2d(dim_in, dim_out, 3, padding=1)\n",
        "                    ]\n",
        "                )\n",
        "            )\n",
        "\n",
        "        self.final_res_block = ConvNextBlock(dim + dim, dim, time_embd_dim=time_dim)\n",
        "        self.final_conv = nn.Conv2d(dim, io_channels, 1)\n",
        "\n",
        "    def forward(self, x, time):\n",
        "        b, _, h, w = x.shape\n",
        "        x = self.init_conv(x) # 3 channels -> 64 channels\n",
        "        r = x.clone()\n",
        "\n",
        "        t = self.time_mlp(time)\n",
        "\n",
        "        unet_stack = []\n",
        "        for down1, down2, downsample in self.downs:\n",
        "            x = down1(x, t)\n",
        "            unet_stack.append(x)\n",
        "            x = down2(x, t)\n",
        "            unet_stack.append(x)\n",
        "            x = downsample(x)\n",
        "\n",
        "        x = self.mid_block(x, t)\n",
        "\n",
        "        for attn, up1, up2, upsample in self.ups:\n",
        "            attn_out = attn(x, unet_stack.pop())\n",
        "            x = torch.cat((x, attn_out), dim=1)\n",
        "            x = up1(x, t)\n",
        "            attn_out = attn(x, unet_stack.pop()) # Use different attention block?\n",
        "            x = torch.cat((x, attn_out), dim=1)\n",
        "            x = up2(x, t)\n",
        "            x = upsample(x)\n",
        "\n",
        "        x = torch.cat((x, r), dim=1)\n",
        "        x = self.final_res_block(x, t)\n",
        "\n",
        "        return self.final_conv(x)\n",
        "\n",
        "# print(AttentionUNet())"
      ]
    },
    {
      "cell_type": "code",
      "execution_count": 96,
      "metadata": {
        "colab": {
          "base_uri": "https://localhost:8080/",
          "height": 430
        },
        "id": "R6i0-g3i8Fco",
        "outputId": "8e41a25a-ed71-472d-f9c2-99503db59323"
      },
      "outputs": [
        {
          "data": {
            "image/png": "[encoded data removed]",
            "text/plain": [
              "<Figure size 640x480 with 1 Axes>"
            ]
          },
          "metadata": {},
          "output_type": "display_data"
        }
      ],
      "source": [
        "# Beta setting approaches\n",
        "def linear_beta_schedule(timesteps: int) -> torch.Tensor:\n",
        "    beta_start = 0.0001\n",
        "    beta_end = 0.02\n",
        "    return torch.linspace(beta_start, beta_end, timesteps, dtype=torch.float64)\n",
        "\n",
        "\n",
        "def cosine_beta_schedule(timesteps: int, s: float = 0.008) -> torch.Tensor:\n",
        "    steps = timesteps + 1\n",
        "    x = torch.linspace(0, timesteps, steps)\n",
        "    alphas_cumprod = torch.cos(((x / timesteps) + s) / (1 + s) * torch.pi * 0.5) ** 2\n",
        "    alphas_cumprod = alphas_cumprod / alphas_cumprod[0]\n",
        "    betas = 1 - (alphas_cumprod[1:] / alphas_cumprod[:-1])\n",
        "    return torch.clip(betas, 0.0001, 0.9999)\n",
        "\n",
        "\n",
        "def sigmoid_beta_schedule(\n",
        "    timesteps: int, start: int = 0, end: int = 1, tau: int = 1\n",
        ") -> torch.Tensor:\n",
        "    steps = timesteps + 1\n",
        "    t = torch.linspace(0, timesteps, steps, dtype=torch.float64) / timesteps\n",
        "    v_start = torch.tensor(start / tau).sigmoid()\n",
        "    v_end = torch.tensor(end / tau).sigmoid()\n",
        "    alphas_cumprod = (-((t * (end - start) + start) / tau).sigmoid() + v_end) / (\n",
        "        v_end - v_start\n",
        "    )\n",
        "    alphas_cumprod = alphas_cumprod / alphas_cumprod[0]\n",
        "    betas = 1 - (alphas_cumprod[1:] / alphas_cumprod[:-1])\n",
        "    return torch.clip(betas, 0, 0.999)\n",
        "\n",
        "ts = 1000\n",
        "time = torch.linspace(0, 1, ts)\n",
        "betas_lin = linear_beta_schedule(ts)\n",
        "alphas_cumprod_lin = torch.cumprod(1-betas_lin, dim=0)\n",
        "plt.plot(time, alphas_cumprod_lin)\n",
        "\n",
        "betas_cos = cosine_beta_schedule(ts)\n",
        "alphas_cumprod_cos = torch.cumprod(1-betas_cos, dim=0)\n",
        "plt.plot(time, alphas_cumprod_cos)\n",
        "\n",
        "betas_sig = sigmoid_beta_schedule(ts)\n",
        "alphas_cumprod_sig = torch.cumprod(1-betas_sig, dim=0)\n",
        "plt.plot(time, alphas_cumprod_sig)\n",
        "plt.show()"
      ]
    },
    {
      "cell_type": "code",
      "execution_count": 97,
      "metadata": {
        "id": "ej99rQWL9SF8"
      },
      "outputs": [],
      "source": [
        "def normalize_to_neg_one_to_one(img: torch.Tensor) -> torch.Tensor:\n",
        "    return img * 2 - 1\n",
        "\n",
        "\n",
        "def unnormalize_to_zero_to_one(img: torch.Tensor) -> torch.Tensor:\n",
        "    return (img + 1) * 0.5"
      ]
    },
    {
      "cell_type": "code",
      "execution_count": 98,
      "metadata": {
        "id": "QkgUt1Xs1-jW"
      },
      "outputs": [],
      "source": [
        "from torch.functional import F\n",
        "from tqdm import tqdm\n",
        "\n",
        "class DiffusionModel(nn.Module):\n",
        "    SCHEDULER_MAPPING = {\n",
        "        \"linear\": linear_beta_schedule,\n",
        "        \"cosine\": cosine_beta_schedule,\n",
        "        \"sigmoid\": sigmoid_beta_schedule,\n",
        "    }\n",
        "\n",
        "    def __init__(self, model, image_size, beta_scheduler=\"linear\", timesteps=1000, schedule_fn_kwargs=None, device=\"cuda\"):\n",
        "        super().__init__()\n",
        "        self.model = model\n",
        "        self.image_size = image_size\n",
        "        self.device = device\n",
        "        self.io_channels = model.io_channels\n",
        "\n",
        "        self.beta_scheduler_fn = self.SCHEDULER_MAPPING.get(beta_scheduler)\n",
        "        if self.beta_scheduler_fn is None:\n",
        "            raise ValueError(f\"unknown beta schedule {beta_scheduler}\")\n",
        "\n",
        "        if schedule_fn_kwargs is None:\n",
        "            schedule_fn_kwargs = {}\n",
        "\n",
        "        # Calculate posterior variance - total noise variance at time t\n",
        "        betas = self.beta_scheduler_fn(timesteps, **schedule_fn_kwargs)[:,None,None,None]\n",
        "        alphas = 1.0 - betas\n",
        "        alphas_cumprod = torch.cumprod(alphas, dim=0)\n",
        "\n",
        "        self.register_buffer(\"betas\", betas)\n",
        "        self.register_buffer(\"alphas\", alphas)\n",
        "        self.register_buffer(\"alphas_cumprod\", alphas_cumprod)\n",
        "\n",
        "        self.num_timesteps = int(timesteps)\n",
        "\n",
        "        self.normalize = normalize_to_neg_one_to_one\n",
        "        self.unnormalize = unnormalize_to_zero_to_one\n",
        "\n",
        "\n",
        "    @torch.inference_mode()\n",
        "    def p_sample(self, x, t, labels=None, cfg_scale=None) -> torch.Tensor:\n",
        "        b, *_, device = *x.shape, x.device\n",
        "        batched_t = torch.full(\n",
        "            (b,), t, device=device, dtype=torch.long\n",
        "        )\n",
        "\n",
        "        pred_noise = self.model(x, batched_t, labels)\n",
        "        if cfg_scale is not None and labels is not None:\n",
        "            uncond_pred_noise = self.model(x, batched_t)\n",
        "            pred_noise = torch.lerp(uncond_pred_noise, pred_noise, cfg_scale)\n",
        "\n",
        "        pred_mean = 1/torch.sqrt(self.alphas[t]) * (\n",
        "            x - self.betas[t] * pred_noise / torch.sqrt(1-self.alphas[t])\n",
        "        )\n",
        "\n",
        "        if t == 0:\n",
        "            return pred_mean\n",
        "        else:\n",
        "            noise = torch.randn_like(x)\n",
        "            return pred_mean + torch.sqrt(self.betas[t]) * noise\n",
        "\n",
        "\n",
        "    @torch.inference_mode()\n",
        "    def sample(self, batch_size: int = 16, labels=None, cfg_scale=None, return_all_timesteps: bool = False) -> torch.Tensor:\n",
        "        shape = (batch_size, self.io_channels, self.image_size, self.image_size)\n",
        "\n",
        "        img = torch.randn(shape, device=self.device)\n",
        "        imgs = [img]\n",
        "\n",
        "        for t in tqdm(reversed(range(0, self.num_timesteps)), total=self.num_timesteps):\n",
        "            img = self.p_sample(img, t, labels, cfg_scale)\n",
        "            if return_all_timesteps:\n",
        "                imgs.append(img)\n",
        "\n",
        "        ret = img if not return_all_timesteps else torch.stack(imgs, dim=1)\n",
        "\n",
        "        ret = self.unnormalize(ret)\n",
        "        return ret\n",
        "\n",
        "\n",
        "    def q_sample(self, x, t):\n",
        "        noise = torch.randn_like(x)\n",
        "        x_t = torch.sqrt(self.alphas_cumprod[t]) * x + torch.sqrt(1 - self.alphas_cumprod[t]) * noise\n",
        "        return x_t, noise\n",
        "\n",
        "\n",
        "    def p_loss(self, x, y=None, loss_type: str = \"l2\") -> torch.Tensor:\n",
        "        t = torch.randint(1, self.num_timesteps, (x.shape[0],)).to(x.device)\n",
        "        x_t, noise = self.q_sample(x, t)\n",
        "        predicted_noise = self.model(x_t, t, y)\n",
        "\n",
        "        if loss_type == \"l2\":\n",
        "            loss = F.mse_loss(noise, predicted_noise)\n",
        "        elif loss_type == \"l1\":\n",
        "            loss = F.l1_loss(noise, predicted_noise)\n",
        "        else:\n",
        "            raise ValueError(f\"unknown loss type {loss_type}\")\n",
        "        return loss\n",
        "\n",
        "\n",
        "    def forward(self, x: torch.Tensor, y=None) -> torch.Tensor:\n",
        "        b, c, h, w = x.shape\n",
        "        assert h == w == self.image_size, f\"image size must be {self.img_image_sizesize}\"\n",
        "        return self.p_loss(x, y)"
      ]
    },
    {
      "cell_type": "code",
      "execution_count": 99,
      "metadata": {
        "id": "gfZF2HReE0KZ"
      },
      "outputs": [],
      "source": [
        "# Setup\n",
        "# Decide which device we want to run on\n",
        "device = torch.device(\"cuda:0\" if (torch.cuda.is_available() and ngpu > 0) else \"cpu\")\n",
        "\n",
        "# Root directory for dataset\n",
        "dataroot = \"./data\"\n",
        "\n",
        "# Number of workers for dataloader\n",
        "workers = 1\n",
        "\n",
        "# Spatial size of training images. All images will be resized to this size using a transform.\n",
        "image_size = 8\n",
        "\n",
        "# Batch size for training\n",
        "batch_size = 16\n",
        "\n",
        "# Number of channels in the training images. For color images this is 3\n",
        "nc = 1\n",
        "\n",
        "# Base dimention of the UNet channels\n",
        "dim = 4\n",
        "\n",
        "# The number and magnitude of UNet scaling steps\n",
        "dim_mults = (1, 1, 2, 4, 4)\n",
        "\n",
        "# Diffusion noise steps\n",
        "timesteps = 100\n",
        "\n",
        "# Number of training epochs\n",
        "num_epochs = 2\n",
        "\n",
        "# Number of GPUs available. Use 0 for CPU mode.\n",
        "ngpu = 1"
      ]
    },
    {
      "cell_type": "code",
      "execution_count": 100,
      "metadata": {
        "colab": {
          "base_uri": "https://localhost:8080/",
          "height": 259
        },
        "id": "gPAZstYzjrdJ",
        "outputId": "3606e999-7ed8-47b2-cf01-5d9565702f15"
      },
      "outputs": [
        {
          "name": "stdout",
          "output_type": "stream",
          "text": [
            "torch.Size([16, 1, 8, 8])\n",
            "tensor([7, 4, 0, 1, 8, 7, 6, 5, 6, 6, 7, 5, 3, 9, 2, 0])\n"
          ]
        },
        {
          "data": {
            "image/png": "[encoded data removed]",
            "text/plain": [
              "<Figure size 800x800 with 1 Axes>"
            ]
          },
          "metadata": {},
          "output_type": "display_data"
        }
      ],
      "source": [
        "def mnist_data():\n",
        "    compose = transforms.Compose(\n",
        "        [transforms.Resize(image_size),\n",
        "         transforms.ToTensor(),\n",
        "         transforms.Normalize((0.5), (0.5))\n",
        "        ])\n",
        "    out_dir = './dataset'\n",
        "    return dset.MNIST(root=out_dir, train=True, transform=compose, download=True)\n",
        "\n",
        "data = mnist_data()\n",
        "data_loader = torch.utils.data.DataLoader(data, batch_size=batch_size, shuffle=True)\n",
        "num_classes = 10\n",
        "\n",
        "# Plot some training images\n",
        "real_batch = next(iter(data_loader))\n",
        "print(real_batch[0].shape)\n",
        "print(real_batch[1])\n",
        "plt.figure(figsize=(8,8))\n",
        "plt.axis(\"off\")\n",
        "plt.title(\"Training Images\")\n",
        "plt.imshow(np.transpose(vutils.make_grid(real_batch[0].to(device)[:64], padding=2, normalize=True).cpu(),(1,2,0)))\n",
        "plt.show()"
      ]
    },
    {
      "cell_type": "code",
      "execution_count": 101,
      "metadata": {
        "colab": {
          "base_uri": "https://localhost:8080/",
          "height": 242
        },
        "id": "CWiR8V1s-J6w",
        "outputId": "e1fa6241-726a-4ef3-e5f9-f66d08fc29bb"
      },
      "outputs": [
        {
          "name": "stdout",
          "output_type": "stream",
          "text": [
            "Files already downloaded and verified\n"
          ]
        },
        {
          "data": {
            "image/png": "[encoded data removed]",
            "text/plain": [
              "<Figure size 800x800 with 1 Axes>"
            ]
          },
          "metadata": {},
          "output_type": "display_data"
        }
      ],
      "source": [
        "# Data loading\n",
        "dataset = dset.CIFAR10(root=dataroot,\n",
        "                           transform=transforms.Compose([\n",
        "                               transforms.Resize(image_size),\n",
        "                               transforms.CenterCrop(image_size),\n",
        "                               transforms.ToTensor(),\n",
        "                               transforms.Normalize((0.5, 0.5, 0.5), (0.5, 0.5, 0.5)),\n",
        "                           ]),\n",
        "                       download=True)\n",
        "\n",
        "classes = ('plane', 'car', 'bird', 'cat', 'deer', 'dog', 'frog', 'horse', 'ship', 'truck')\n",
        "num_classes = len(classes)\n",
        "\n",
        "# Create the dataloader\n",
        "dataloader = torch.utils.data.DataLoader(dataset, batch_size=batch_size,\n",
        "                                         shuffle=True, num_workers=workers)\n",
        "\n",
        "# Plot some training images\n",
        "real_batch = next(iter(dataloader))\n",
        "plt.figure(figsize=(8,8))\n",
        "plt.axis(\"off\")\n",
        "plt.title(\"Training Images\")\n",
        "plt.imshow(np.transpose(vutils.make_grid(real_batch[0].to(device)[:64], padding=2, normalize=True).cpu(),(1,2,0)))\n",
        "plt.show()"
      ]
    },
    {
      "cell_type": "code",
      "execution_count": 102,
      "metadata": {
        "id": "jKy2sbUr9Hy-"
      },
      "outputs": [],
      "source": [
        "device = torch.device(\"cuda:0\" if (torch.cuda.is_available() and ngpu > 0) else \"cpu\")\n",
        "unet = TwoResUNet(dim, dim_mults, nc, num_classes)\n",
        "model = DiffusionModel(unet, image_size, beta_scheduler=\"cosine\", timesteps=timesteps, device=device)"
      ]
    },
    {
      "cell_type": "code",
      "execution_count": 103,
      "metadata": {
        "colab": {
          "base_uri": "https://localhost:8080/",
          "height": 388
        },
        "id": "YfATeFxkZlYM",
        "outputId": "c47ad771-c35e-4680-abb4-917c466eb064"
      },
      "outputs": [
        {
          "name": "stdout",
          "output_type": "stream",
          "text": [
            "torch.Size([8, 1, 8, 8])\n"
          ]
        },
        {
          "data": {
            "image/png": "[encoded data removed]",
            "text/plain": [
              "<Figure size 640x480 with 1 Axes>"
            ]
          },
          "metadata": {},
          "output_type": "display_data"
        },
        {
          "data": {
            "image/png": "[encoded data removed]",
            "text/plain": [
              "<Figure size 640x480 with 1 Axes>"
            ]
          },
          "metadata": {},
          "output_type": "display_data"
        },
        {
          "data": {
            "image/png": "[encoded data removed]",
            "text/plain": [
              "<Figure size 640x480 with 1 Axes>"
            ]
          },
          "metadata": {},
          "output_type": "display_data"
        }
      ],
      "source": [
        "test_img = next(iter(data_loader))[0][0]\n",
        "\n",
        "x_0 = test_img.repeat(8,1,1,1)\n",
        "print(x_0.size())\n",
        "plt.imshow(np.transpose(vutils.make_grid(x_0.to(device)[:64], padding=2, normalize=True).cpu(),(1,2,0)))\n",
        "plt.show()\n",
        "\n",
        "t = torch.linspace(0, timesteps - 1, 8, dtype=int)\n",
        "x_t, noise = model.q_sample(x_0, t)\n",
        "\n",
        "plt.imshow(np.transpose(vutils.make_grid(x_t.to(device)[:64], padding=2, normalize=True).cpu(),(1,2,0)))\n",
        "plt.show()\n",
        "plt.imshow(np.transpose(vutils.make_grid(noise.to(device)[:64], padding=2, normalize=True).cpu(),(1,2,0)))\n",
        "plt.show()\n"
      ]
    },
    {
      "cell_type": "code",
      "execution_count": 104,
      "metadata": {
        "colab": {
          "base_uri": "https://localhost:8080/",
          "height": 1000
        },
        "id": "XGfrnexznb2y",
        "outputId": "5354c141-e30c-4bad-a5b3-b1a4edc82e25"
      },
      "outputs": [
        {
          "name": "stderr",
          "output_type": "stream",
          "text": [
            "\n",
            "  0%|          | 0/100 [00:00<?, ?it/s]\u001b[A\n",
            "  2%|▏         | 2/100 [00:00<00:07, 12.64it/s]\u001b[A\n",
            "  4%|▍         | 4/100 [00:00<00:13,  7.15it/s]\u001b[A\n",
            "  6%|▌         | 6/100 [00:00<00:10,  9.19it/s]\u001b[A\n",
            "  8%|▊         | 8/100 [00:00<00:08, 10.89it/s]\u001b[A\n",
            " 10%|█         | 10/100 [00:01<00:09,  9.54it/s]\u001b[A\n",
            " 12%|█▏        | 12/100 [00:01<00:08, 10.01it/s]\u001b[A\n",
            " 14%|█▍        | 14/100 [00:01<00:08, 10.00it/s]\u001b[A\n",
            " 16%|█▌        | 16/100 [00:01<00:09,  8.93it/s]\u001b[A\n",
            " 17%|█▋        | 17/100 [00:01<00:09,  8.55it/s]\u001b[A\n",
            " 19%|█▉        | 19/100 [00:02<00:08,  9.89it/s]\u001b[A\n",
            " 21%|██        | 21/100 [00:02<00:09,  8.65it/s]\u001b[A\n",
            " 22%|██▏       | 22/100 [00:02<00:09,  7.95it/s]\u001b[A\n",
            " 23%|██▎       | 23/100 [00:02<00:11,  6.54it/s]\u001b[A\n",
            " 24%|██▍       | 24/100 [00:02<00:12,  6.12it/s]\u001b[A\n",
            " 25%|██▌       | 25/100 [00:03<00:13,  5.65it/s]\u001b[A\n",
            " 26%|██▌       | 26/100 [00:03<00:15,  4.81it/s]\u001b[A\n",
            " 27%|██▋       | 27/100 [00:03<00:14,  5.10it/s]\u001b[A\n",
            " 28%|██▊       | 28/100 [00:03<00:12,  5.59it/s]\u001b[A\n",
            " 29%|██▉       | 29/100 [00:03<00:11,  6.33it/s]\u001b[A\n",
            " 30%|███       | 30/100 [00:03<00:10,  6.81it/s]\u001b[A\n",
            " 31%|███       | 31/100 [00:04<00:09,  6.94it/s]\u001b[A\n",
            " 32%|███▏      | 32/100 [00:04<00:11,  5.71it/s]\u001b[A\n",
            " 33%|███▎      | 33/100 [00:04<00:10,  6.18it/s]\u001b[A\n",
            " 34%|███▍      | 34/100 [00:04<00:10,  6.19it/s]\u001b[A\n",
            " 35%|███▌      | 35/100 [00:04<00:11,  5.48it/s]\u001b[A\n",
            " 36%|███▌      | 36/100 [00:05<00:11,  5.44it/s]\u001b[A\n",
            " 37%|███▋      | 37/100 [00:05<00:19,  3.31it/s]\u001b[A\n",
            " 38%|███▊      | 38/100 [00:06<00:20,  3.03it/s]\u001b[A\n",
            " 39%|███▉      | 39/100 [00:06<00:22,  2.65it/s]\u001b[A\n",
            " 40%|████      | 40/100 [00:06<00:20,  2.93it/s]\u001b[A\n",
            " 41%|████      | 41/100 [00:06<00:18,  3.25it/s]\u001b[A\n",
            " 42%|████▏     | 42/100 [00:07<00:15,  3.71it/s]\u001b[A\n",
            " 43%|████▎     | 43/100 [00:07<00:14,  3.86it/s]\u001b[A\n",
            " 45%|████▌     | 45/100 [00:07<00:10,  5.23it/s]\u001b[A\n",
            " 46%|████▌     | 46/100 [00:07<00:09,  5.72it/s]\u001b[A\n",
            " 47%|████▋     | 47/100 [00:07<00:08,  6.38it/s]\u001b[A\n",
            " 48%|████▊     | 48/100 [00:07<00:07,  6.64it/s]\u001b[A\n",
            " 50%|█████     | 50/100 [00:08<00:06,  8.16it/s]\u001b[A\n",
            " 51%|█████     | 51/100 [00:08<00:06,  8.03it/s]\u001b[A\n",
            " 53%|█████▎    | 53/100 [00:08<00:04,  9.74it/s]\u001b[A\n",
            " 55%|█████▌    | 55/100 [00:08<00:04,  9.28it/s]\u001b[A\n",
            " 56%|█████▌    | 56/100 [00:08<00:05,  8.23it/s]\u001b[A\n",
            " 57%|█████▋    | 57/100 [00:09<00:05,  7.58it/s]\u001b[A\n",
            " 58%|█████▊    | 58/100 [00:09<00:06,  6.38it/s]\u001b[A\n",
            " 59%|█████▉    | 59/100 [00:09<00:06,  5.98it/s]\u001b[A\n",
            " 60%|██████    | 60/100 [00:09<00:06,  6.22it/s]\u001b[A\n",
            " 61%|██████    | 61/100 [00:09<00:06,  6.25it/s]\u001b[A\n",
            " 62%|██████▏   | 62/100 [00:09<00:06,  6.08it/s]\u001b[A\n",
            " 63%|██████▎   | 63/100 [00:10<00:05,  6.79it/s]\u001b[A\n",
            " 64%|██████▍   | 64/100 [00:10<00:05,  6.28it/s]\u001b[A\n",
            " 65%|██████▌   | 65/100 [00:10<00:05,  6.22it/s]\u001b[A\n",
            " 66%|██████▌   | 66/100 [00:10<00:05,  5.72it/s]\u001b[A\n",
            " 67%|██████▋   | 67/100 [00:10<00:06,  5.28it/s]\u001b[A\n",
            " 68%|██████▊   | 68/100 [00:11<00:06,  4.96it/s]\u001b[A\n",
            " 69%|██████▉   | 69/100 [00:11<00:06,  4.68it/s]\u001b[A\n",
            " 70%|███████   | 70/100 [00:11<00:05,  5.50it/s]\u001b[A\n",
            " 71%|███████   | 71/100 [00:11<00:04,  6.04it/s]\u001b[A\n",
            " 72%|███████▏  | 72/100 [00:11<00:04,  5.80it/s]\u001b[A\n",
            " 73%|███████▎  | 73/100 [00:12<00:06,  4.41it/s]\u001b[A\n",
            " 74%|███████▍  | 74/100 [00:12<00:07,  3.47it/s]\u001b[A\n",
            " 75%|███████▌  | 75/100 [00:12<00:08,  3.03it/s]\u001b[A\n",
            " 76%|███████▌  | 76/100 [00:13<00:06,  3.48it/s]\u001b[A\n",
            " 77%|███████▋  | 77/100 [00:13<00:06,  3.46it/s]\u001b[A\n",
            " 78%|███████▊  | 78/100 [00:13<00:06,  3.45it/s]\u001b[A\n",
            " 79%|███████▉  | 79/100 [00:13<00:05,  3.87it/s]\u001b[A\n",
            " 80%|████████  | 80/100 [00:14<00:04,  4.19it/s]\u001b[A\n",
            " 81%|████████  | 81/100 [00:14<00:04,  4.58it/s]\u001b[A\n",
            " 82%|████████▏ | 82/100 [00:14<00:03,  5.25it/s]\u001b[A\n",
            " 83%|████████▎ | 83/100 [00:14<00:03,  5.34it/s]\u001b[A\n",
            " 84%|████████▍ | 84/100 [00:14<00:02,  5.83it/s]\u001b[A\n",
            " 85%|████████▌ | 85/100 [00:14<00:02,  6.18it/s]\u001b[A\n",
            " 86%|████████▌ | 86/100 [00:14<00:02,  6.53it/s]\u001b[A\n",
            " 87%|████████▋ | 87/100 [00:15<00:02,  6.28it/s]\u001b[A\n",
            " 88%|████████▊ | 88/100 [00:15<00:01,  6.46it/s]\u001b[A\n",
            " 89%|████████▉ | 89/100 [00:15<00:01,  6.85it/s]\u001b[A\n",
            " 90%|█████████ | 90/100 [00:15<00:01,  7.29it/s]\u001b[A\n",
            " 91%|█████████ | 91/100 [00:15<00:01,  7.46it/s]\u001b[A\n",
            " 92%|█████████▏| 92/100 [00:15<00:01,  7.43it/s]\u001b[A\n",
            " 93%|█████████▎| 93/100 [00:15<00:00,  7.91it/s]\u001b[A\n",
            " 95%|█████████▌| 95/100 [00:16<00:00,  9.82it/s]\u001b[A\n",
            " 96%|█████████▌| 96/100 [00:16<00:00,  8.80it/s]\u001b[A\n",
            " 97%|█████████▋| 97/100 [00:16<00:00,  8.24it/s]\u001b[A\n",
            " 98%|█████████▊| 98/100 [00:16<00:00,  8.05it/s]\u001b[A\n",
            "100%|██████████| 100/100 [00:16<00:00,  6.00it/s]\n"
          ]
        },
        {
          "data": {
            "image/png": "[encoded data removed]",
            "text/plain": [
              "<Figure size 800x800 with 1 Axes>"
            ]
          },
          "metadata": {},
          "output_type": "display_data"
        }
      ],
      "source": [
        "num_samples = 5\n",
        "labels = torch.randint(0, num_classes, (num_samples,), device=device)\n",
        "cfg = torch.linspace(0, 2, num_samples, device=device).reshape((num_samples,) + (1,) * test_img.dim())\n",
        "sampled_imgs = model.sample(num_samples, labels, cfg)\n",
        "\n",
        "plt.figure(figsize=(8,8))\n",
        "plt.axis(\"off\")\n",
        "plt.title(\"Training Images\")\n",
        "plt.imshow(np.transpose(vutils.make_grid(sampled_imgs.to(device)[:64], padding=2, normalize=True).cpu(),(1,2,0)))\n",
        "plt.show()"
      ]
    },
    {
      "cell_type": "code",
      "execution_count": 105,
      "metadata": {
        "colab": {
          "base_uri": "https://localhost:8080/",
          "height": 1000
        },
        "id": "OeqRybmK9Hnr",
        "outputId": "9d073d31-2171-4722-b691-ae1dc45843f4"
      },
      "outputs": [
        {
          "name": "stderr",
          "output_type": "stream",
          "text": [
            "\n",
            "  0%|          | 0/3125 [1:18:16<?, ?it/s]\n",
            "100%|██████████| 100/100 [00:04<00:00, 23.60it/s]\n"
          ]
        },
        {
          "data": {
            "image/png": "[encoded data removed]",
            "text/plain": [
              "<Figure size 800x800 with 1 Axes>"
            ]
          },
          "metadata": {},
          "output_type": "display_data"
        },
        {
          "name": "stderr",
          "output_type": "stream",
          "text": [
            "\n",
            "loss: 0.1401:   0%|          | 0/3125 [01:47<?, ?it/s]\u001b[A\n",
            "100%|██████████| 100/100 [00:03<00:00, 31.58it/s]\n"
          ]
        },
        {
          "data": {
            "image/png": "[encoded data removed]",
            "text/plain": [
              "<Figure size 800x800 with 1 Axes>"
            ]
          },
          "metadata": {},
          "output_type": "display_data"
        },
        {
          "name": "stderr",
          "output_type": "stream",
          "text": [
            "\n",
            "loss: 0.1651:   0%|          | 1/3125 [03:17<93:06:16, 107.29s/it]\u001b[A\n",
            "100%|██████████| 100/100 [00:03<00:00, 30.75it/s]\n"
          ]
        },
        {
          "data": {
            "image/png": "[encoded data removed]",
            "text/plain": [
              "<Figure size 800x800 with 1 Axes>"
            ]
          },
          "metadata": {},
          "output_type": "display_data"
        },
        {
          "name": "stderr",
          "output_type": "stream",
          "text": [
            "\n",
            "loss: 0.1813:   0%|          | 2/3125 [04:49<84:19:06, 97.20s/it]\u001b[A\n",
            "loss: 0.1813:   0%|          | 3/3125 [05:55<102:39:56, 118.38s/it]\n",
            "\n",
            "  0%|          | 0/100 [00:00<?, ?it/s]\u001b[A\n",
            "  3%|▎         | 3/100 [00:00<00:04, 23.92it/s]\u001b[A\n",
            "  6%|▌         | 6/100 [00:00<00:04, 20.81it/s]\u001b[A\n",
            "  9%|▉         | 9/100 [00:00<00:04, 20.54it/s]\u001b[A\n",
            " 12%|█▏        | 12/100 [00:00<00:04, 18.67it/s]\u001b[A\n",
            " 14%|█▍        | 14/100 [00:00<00:04, 18.81it/s]\u001b[A\n",
            " 16%|█▌        | 16/100 [00:00<00:04, 17.97it/s]\u001b[A\n",
            " 18%|█▊        | 18/100 [00:00<00:04, 18.29it/s]\u001b[A\n",
            " 21%|██        | 21/100 [00:01<00:04, 19.35it/s]\u001b[A\n",
            " 23%|██▎       | 23/100 [00:01<00:03, 19.39it/s]\u001b[A\n",
            " 26%|██▌       | 26/100 [00:01<00:03, 19.92it/s]\u001b[A\n",
            " 28%|██▊       | 28/100 [00:01<00:03, 19.67it/s]\u001b[A\n",
            " 30%|███       | 30/100 [00:01<00:03, 19.27it/s]\u001b[A\n",
            " 32%|███▏      | 32/100 [00:01<00:03, 17.32it/s]\u001b[A\n",
            " 34%|███▍      | 34/100 [00:01<00:03, 17.70it/s]\u001b[A\n",
            " 36%|███▌      | 36/100 [00:01<00:03, 17.10it/s]\u001b[A\n",
            " 38%|███▊      | 38/100 [00:02<00:03, 17.79it/s]\u001b[A\n",
            " 42%|████▏     | 42/100 [00:02<00:02, 22.39it/s]\u001b[A\n",
            " 45%|████▌     | 45/100 [00:02<00:02, 24.12it/s]\u001b[A\n",
            " 49%|████▉     | 49/100 [00:02<00:01, 26.27it/s]\u001b[A\n",
            " 52%|█████▏    | 52/100 [00:02<00:01, 27.21it/s]\u001b[A\n",
            " 55%|█████▌    | 55/100 [00:02<00:01, 24.67it/s]\u001b[A\n",
            " 58%|█████▊    | 58/100 [00:02<00:01, 25.96it/s]\u001b[A\n",
            " 61%|██████    | 61/100 [00:02<00:01, 26.73it/s]\u001b[A\n",
            " 64%|██████▍   | 64/100 [00:02<00:01, 26.56it/s]\u001b[A\n",
            " 68%|██████▊   | 68/100 [00:03<00:01, 28.38it/s]\u001b[A\n",
            " 72%|███████▏  | 72/100 [00:03<00:00, 29.19it/s]\u001b[A\n",
            " 75%|███████▌  | 75/100 [00:03<00:00, 28.72it/s]\u001b[A\n",
            " 79%|███████▉  | 79/100 [00:03<00:00, 29.66it/s]\u001b[A\n",
            " 82%|████████▏ | 82/100 [00:03<00:00, 28.22it/s]\u001b[A\n",
            " 85%|████████▌ | 85/100 [00:03<00:00, 28.08it/s]\u001b[A\n",
            " 88%|████████▊ | 88/100 [00:03<00:00, 28.52it/s]\u001b[A\n",
            " 92%|█████████▏| 92/100 [00:03<00:00, 29.70it/s]\u001b[A\n",
            " 95%|█████████▌| 95/100 [00:04<00:00, 28.61it/s]\u001b[A\n",
            "100%|██████████| 100/100 [00:04<00:00, 23.87it/s]\n"
          ]
        },
        {
          "data": {
            "image/png": "[encoded data removed]",
            "text/plain": [
              "<Figure size 800x800 with 1 Axes>"
            ]
          },
          "metadata": {},
          "output_type": "display_data"
        },
        {
          "name": "stderr",
          "output_type": "stream",
          "text": [
            "loss: 0.1925:   0%|          | 1/3125 [00:25<22:22:39, 25.79s/it]\n",
            "  0%|          | 0/100 [00:00<?, ?it/s]\u001b[A\n",
            "  4%|▍         | 4/100 [00:00<00:02, 35.19it/s]\u001b[A\n",
            "  8%|▊         | 8/100 [00:00<00:02, 32.22it/s]\u001b[A\n",
            " 12%|█▏        | 12/100 [00:00<00:02, 32.00it/s]\u001b[A\n",
            " 16%|█▌        | 16/100 [00:00<00:02, 31.58it/s]\u001b[A\n",
            " 20%|██        | 20/100 [00:00<00:02, 30.39it/s]\u001b[A\n",
            " 24%|██▍       | 24/100 [00:00<00:02, 28.52it/s]\u001b[A\n",
            " 28%|██▊       | 28/100 [00:00<00:02, 29.57it/s]\u001b[A\n",
            " 31%|███       | 31/100 [00:01<00:02, 29.60it/s]\u001b[A\n",
            " 35%|███▌      | 35/100 [00:01<00:02, 30.22it/s]\u001b[A\n",
            " 39%|███▉      | 39/100 [00:01<00:01, 30.59it/s]\u001b[A\n",
            " 43%|████▎     | 43/100 [00:01<00:01, 31.06it/s]\u001b[A\n",
            " 47%|████▋     | 47/100 [00:01<00:01, 30.71it/s]\u001b[A\n",
            " 51%|█████     | 51/100 [00:01<00:01, 29.84it/s]\u001b[A\n",
            " 54%|█████▍    | 54/100 [00:01<00:01, 28.09it/s]\u001b[A\n",
            " 57%|█████▋    | 57/100 [00:01<00:01, 28.50it/s]\u001b[A\n",
            " 60%|██████    | 60/100 [00:02<00:01, 28.83it/s]\u001b[A\n",
            " 64%|██████▍   | 64/100 [00:02<00:01, 29.69it/s]\u001b[A\n",
            " 68%|██████▊   | 68/100 [00:02<00:01, 30.59it/s]\u001b[A\n",
            " 72%|███████▏  | 72/100 [00:02<00:00, 30.78it/s]\u001b[A\n",
            " 76%|███████▌  | 76/100 [00:02<00:00, 31.30it/s]\u001b[A\n",
            " 80%|████████  | 80/100 [00:02<00:00, 30.37it/s]\u001b[A\n",
            " 84%|████████▍ | 84/100 [00:02<00:00, 28.27it/s]\u001b[A\n",
            " 88%|████████▊ | 88/100 [00:02<00:00, 29.07it/s]\u001b[A\n",
            " 91%|█████████ | 91/100 [00:03<00:00, 25.37it/s]\u001b[A\n",
            " 94%|█████████▍| 94/100 [00:03<00:00, 23.97it/s]\u001b[A\n",
            " 97%|█████████▋| 97/100 [00:03<00:00, 23.10it/s]\u001b[A\n",
            "100%|██████████| 100/100 [00:03<00:00, 28.31it/s]\n"
          ]
        },
        {
          "data": {
            "image/png": "[encoded data removed]",
            "text/plain": [
              "<Figure size 800x800 with 1 Axes>"
            ]
          },
          "metadata": {},
          "output_type": "display_data"
        },
        {
          "name": "stderr",
          "output_type": "stream",
          "text": [
            "loss: 0.1964:   0%|          | 2/3125 [01:56<55:15:33, 63.70s/it]\n",
            "  0%|          | 0/100 [00:00<?, ?it/s]\u001b[A\n",
            "  4%|▍         | 4/100 [00:00<00:02, 32.26it/s]\u001b[A\n",
            "  8%|▊         | 8/100 [00:00<00:02, 32.06it/s]\u001b[A\n",
            " 12%|█▏        | 12/100 [00:00<00:02, 31.66it/s]\u001b[A\n",
            " 16%|█▌        | 16/100 [00:00<00:02, 31.68it/s]\u001b[A\n",
            " 20%|██        | 20/100 [00:00<00:02, 31.57it/s]\u001b[A\n",
            " 24%|██▍       | 24/100 [00:00<00:02, 28.63it/s]\u001b[A\n",
            " 28%|██▊       | 28/100 [00:00<00:02, 29.91it/s]\u001b[A\n",
            " 32%|███▏      | 32/100 [00:01<00:02, 30.37it/s]\u001b[A\n",
            " 36%|███▌      | 36/100 [00:01<00:02, 29.92it/s]\u001b[A\n",
            " 40%|████      | 40/100 [00:01<00:01, 30.26it/s]\u001b[A\n",
            " 44%|████▍     | 44/100 [00:01<00:01, 30.75it/s]\u001b[A\n",
            " 48%|████▊     | 48/100 [00:01<00:01, 31.04it/s]\u001b[A\n",
            " 52%|█████▏    | 52/100 [00:01<00:01, 31.00it/s]\u001b[A\n",
            " 56%|█████▌    | 56/100 [00:01<00:01, 29.12it/s]\u001b[A\n",
            " 59%|█████▉    | 59/100 [00:01<00:01, 29.33it/s]\u001b[A\n",
            " 63%|██████▎   | 63/100 [00:02<00:01, 30.42it/s]\u001b[A\n",
            " 67%|██████▋   | 67/100 [00:02<00:01, 29.86it/s]\u001b[A\n",
            " 71%|███████   | 71/100 [00:02<00:00, 29.86it/s]\u001b[A\n",
            " 75%|███████▌  | 75/100 [00:02<00:00, 30.50it/s]\u001b[A\n",
            " 79%|███████▉  | 79/100 [00:02<00:00, 30.63it/s]\u001b[A\n",
            " 83%|████████▎ | 83/100 [00:02<00:00, 29.47it/s]\u001b[A\n",
            " 86%|████████▌ | 86/100 [00:02<00:00, 29.09it/s]\u001b[A\n",
            " 89%|████████▉ | 89/100 [00:02<00:00, 29.31it/s]\u001b[A\n",
            " 93%|█████████▎| 93/100 [00:03<00:00, 30.37it/s]\u001b[A\n",
            " 97%|█████████▋| 97/100 [00:03<00:00, 29.68it/s]\u001b[A\n",
            "100%|██████████| 100/100 [00:03<00:00, 29.91it/s]\n"
          ]
        },
        {
          "data": {
            "image/png": "[encoded data removed]",
            "text/plain": [
              "<Figure size 800x800 with 1 Axes>"
            ]
          },
          "metadata": {},
          "output_type": "display_data"
        },
        {
          "name": "stderr",
          "output_type": "stream",
          "text": [
            "loss: 0.0627:   0%|          | 3/3125 [03:26<65:57:05, 76.05s/it]\n",
            "  0%|          | 0/100 [00:00<?, ?it/s]\u001b[A\n",
            "  3%|▎         | 3/100 [00:00<00:04, 21.00it/s]\u001b[A\n",
            "  6%|▌         | 6/100 [00:00<00:04, 21.07it/s]\u001b[A\n",
            "  9%|▉         | 9/100 [00:00<00:04, 20.85it/s]\u001b[A\n",
            " 12%|█▏        | 12/100 [00:00<00:04, 20.59it/s]\u001b[A\n",
            " 15%|█▌        | 15/100 [00:00<00:04, 21.03it/s]\u001b[A\n",
            " 18%|█▊        | 18/100 [00:00<00:03, 21.67it/s]\u001b[A\n",
            " 21%|██        | 21/100 [00:00<00:03, 21.50it/s]\u001b[A\n",
            " 24%|██▍       | 24/100 [00:01<00:03, 21.81it/s]\u001b[A\n",
            " 27%|██▋       | 27/100 [00:01<00:03, 21.21it/s]\u001b[A\n",
            " 30%|███       | 30/100 [00:01<00:03, 20.59it/s]\u001b[A\n",
            " 33%|███▎      | 33/100 [00:01<00:03, 18.96it/s]\u001b[A\n",
            " 35%|███▌      | 35/100 [00:01<00:03, 18.92it/s]\u001b[A\n",
            " 37%|███▋      | 37/100 [00:01<00:03, 18.94it/s]\u001b[A\n",
            " 40%|████      | 40/100 [00:01<00:03, 19.66it/s]\u001b[A\n",
            " 42%|████▏     | 42/100 [00:02<00:03, 18.90it/s]\u001b[A\n",
            " 45%|████▌     | 45/100 [00:02<00:02, 19.51it/s]\u001b[A\n",
            " 47%|████▋     | 47/100 [00:02<00:02, 19.06it/s]\u001b[A\n",
            " 49%|████▉     | 49/100 [00:02<00:02, 18.91it/s]\u001b[A\n",
            " 51%|█████     | 51/100 [00:02<00:02, 17.97it/s]\u001b[A\n",
            " 54%|█████▍    | 54/100 [00:02<00:02, 19.24it/s]\u001b[A\n",
            " 57%|█████▋    | 57/100 [00:02<00:02, 20.07it/s]\u001b[A\n",
            " 60%|██████    | 60/100 [00:02<00:01, 20.46it/s]\u001b[A\n",
            " 63%|██████▎   | 63/100 [00:03<00:01, 20.52it/s]\u001b[A\n",
            " 66%|██████▌   | 66/100 [00:03<00:01, 20.86it/s]\u001b[A\n",
            " 69%|██████▉   | 69/100 [00:03<00:01, 20.03it/s]\u001b[A\n",
            " 72%|███████▏  | 72/100 [00:03<00:01, 19.97it/s]\u001b[A\n",
            " 75%|███████▌  | 75/100 [00:03<00:01, 20.21it/s]\u001b[A\n",
            " 78%|███████▊  | 78/100 [00:03<00:01, 19.69it/s]\u001b[A\n",
            " 80%|████████  | 80/100 [00:03<00:01, 19.71it/s]\u001b[A\n",
            " 83%|████████▎ | 83/100 [00:04<00:00, 21.97it/s]\u001b[A\n",
            " 86%|████████▌ | 86/100 [00:04<00:00, 23.75it/s]\u001b[A\n",
            " 89%|████████▉ | 89/100 [00:04<00:00, 24.94it/s]\u001b[A\n",
            " 92%|█████████▏| 92/100 [00:04<00:00, 25.33it/s]\u001b[A\n",
            " 95%|█████████▌| 95/100 [00:04<00:00, 24.20it/s]\u001b[A\n",
            "100%|██████████| 100/100 [00:04<00:00, 21.11it/s]\n"
          ]
        },
        {
          "data": {
            "image/png": "[encoded data removed]",
            "text/plain": [
              "<Figure size 800x800 with 1 Axes>"
            ]
          },
          "metadata": {},
          "output_type": "display_data"
        },
        {
          "name": "stderr",
          "output_type": "stream",
          "text": [
            "loss: 0.1128:   0%|          | 4/3125 [04:58<71:16:08, 82.21s/it]\n",
            "loss: 0.1128:   0%|          | 4/3125 [05:41<74:04:11, 85.44s/it]\n",
            "100%|██████████| 100/100 [00:03<00:00, 32.01it/s]\n"
          ]
        },
        {
          "data": {
            "image/png": "[encoded data removed]",
            "text/plain": [
              "<Figure size 800x800 with 1 Axes>"
            ]
          },
          "metadata": {},
          "output_type": "display_data"
        },
        {
          "name": "stderr",
          "output_type": "stream",
          "text": [
            "\n",
            "loss: 0.0831:   0%|          | 0/3125 [00:46<?, ?it/s]\u001b[A\n",
            "100%|██████████| 100/100 [00:03<00:00, 31.79it/s]\n"
          ]
        },
        {
          "data": {
            "image/png": "[encoded data removed]",
            "text/plain": [
              "<Figure size 800x800 with 1 Axes>"
            ]
          },
          "metadata": {},
          "output_type": "display_data"
        },
        {
          "name": "stderr",
          "output_type": "stream",
          "text": [
            "\n",
            "loss: 0.1270:   0%|          | 1/3125 [02:17<40:22:03, 46.52s/it]\u001b[A\n",
            "100%|██████████| 100/100 [00:04<00:00, 23.30it/s]\n"
          ]
        },
        {
          "data": {
            "image/png": "[encoded data removed]",
            "text/plain": [
              "<Figure size 800x800 with 1 Axes>"
            ]
          },
          "metadata": {},
          "output_type": "display_data"
        },
        {
          "name": "stderr",
          "output_type": "stream",
          "text": [
            "\n",
            "loss: 0.1081:   0%|          | 2/3125 [03:48<62:53:51, 72.50s/it]\u001b[A\n",
            "100%|██████████| 100/100 [00:03<00:00, 31.14it/s]\n"
          ]
        },
        {
          "data": {
            "image/png": "[encoded data removed]",
            "text/plain": [
              "<Figure size 800x800 with 1 Axes>"
            ]
          },
          "metadata": {},
          "output_type": "display_data"
        },
        {
          "name": "stderr",
          "output_type": "stream",
          "text": [
            "\n",
            "loss: 0.0662:   0%|          | 3/3125 [05:18<70:08:23, 80.88s/it]\u001b[A\n",
            "loss: 0.0662:   0%|          | 4/3125 [05:40<73:47:09, 85.11s/it]\n",
            "\n",
            "  0%|          | 0/100 [00:00<?, ?it/s]\u001b[A\n",
            "  3%|▎         | 3/100 [00:00<00:03, 28.08it/s]\u001b[A\n",
            "  6%|▌         | 6/100 [00:00<00:03, 27.81it/s]\u001b[A\n",
            " 10%|█         | 10/100 [00:00<00:03, 27.66it/s]\u001b[A\n",
            " 13%|█▎        | 13/100 [00:00<00:03, 27.17it/s]\u001b[A\n",
            " 16%|█▌        | 16/100 [00:00<00:03, 27.80it/s]\u001b[A\n",
            " 19%|█▉        | 19/100 [00:00<00:03, 25.70it/s]\u001b[A\n",
            " 23%|██▎       | 23/100 [00:00<00:02, 27.63it/s]\u001b[A\n",
            " 26%|██▌       | 26/100 [00:00<00:02, 27.72it/s]\u001b[A\n",
            " 29%|██▉       | 29/100 [00:01<00:02, 28.24it/s]\u001b[A\n",
            " 32%|███▏      | 32/100 [00:01<00:02, 27.32it/s]\u001b[A\n",
            " 35%|███▌      | 35/100 [00:01<00:02, 27.76it/s]\u001b[A\n",
            " 38%|███▊      | 38/100 [00:01<00:02, 28.20it/s]\u001b[A\n",
            " 41%|████      | 41/100 [00:01<00:02, 28.71it/s]\u001b[A\n",
            " 44%|████▍     | 44/100 [00:01<00:01, 28.69it/s]\u001b[A\n",
            " 47%|████▋     | 47/100 [00:01<00:02, 25.78it/s]\u001b[A\n",
            " 50%|█████     | 50/100 [00:01<00:01, 25.76it/s]\u001b[A\n",
            " 53%|█████▎    | 53/100 [00:01<00:01, 26.72it/s]\u001b[A\n",
            " 56%|█████▌    | 56/100 [00:02<00:01, 26.64it/s]\u001b[A\n",
            " 59%|█████▉    | 59/100 [00:02<00:01, 26.31it/s]\u001b[A\n",
            " 62%|██████▏   | 62/100 [00:02<00:01, 26.57it/s]\u001b[A\n",
            " 65%|██████▌   | 65/100 [00:02<00:01, 26.63it/s]\u001b[A\n",
            " 68%|██████▊   | 68/100 [00:02<00:01, 27.07it/s]\u001b[A\n",
            " 71%|███████   | 71/100 [00:02<00:01, 27.53it/s]\u001b[A\n",
            " 74%|███████▍  | 74/100 [00:02<00:01, 25.33it/s]\u001b[A\n",
            " 78%|███████▊  | 78/100 [00:02<00:00, 27.11it/s]\u001b[A\n",
            " 81%|████████  | 81/100 [00:02<00:00, 27.62it/s]\u001b[A\n",
            " 84%|████████▍ | 84/100 [00:03<00:00, 28.15it/s]\u001b[A\n",
            " 87%|████████▋ | 87/100 [00:03<00:00, 27.48it/s]\u001b[A\n",
            " 90%|█████████ | 90/100 [00:03<00:00, 27.61it/s]\u001b[A\n",
            " 93%|█████████▎| 93/100 [00:03<00:00, 28.23it/s]\u001b[A\n",
            " 96%|█████████▌| 96/100 [00:03<00:00, 28.46it/s]\u001b[A\n",
            "100%|██████████| 100/100 [00:03<00:00, 27.20it/s]\n"
          ]
        },
        {
          "data": {
            "image/png": "[encoded data removed]",
            "text/plain": [
              "<Figure size 800x800 with 1 Axes>"
            ]
          },
          "metadata": {},
          "output_type": "display_data"
        },
        {
          "name": "stderr",
          "output_type": "stream",
          "text": [
            "loss: 0.0807:   0%|          | 1/3125 [01:10<61:03:27, 70.36s/it]\n",
            "  0%|          | 0/100 [00:00<?, ?it/s]\u001b[A\n",
            "  3%|▎         | 3/100 [00:00<00:04, 21.13it/s]\u001b[A\n",
            "  6%|▌         | 6/100 [00:00<00:04, 20.64it/s]\u001b[A\n",
            "  9%|▉         | 9/100 [00:00<00:04, 20.73it/s]\u001b[A\n",
            " 12%|█▏        | 12/100 [00:00<00:04, 19.39it/s]\u001b[A\n",
            " 14%|█▍        | 14/100 [00:00<00:04, 18.47it/s]\u001b[A\n",
            " 16%|█▌        | 16/100 [00:00<00:04, 18.28it/s]\u001b[A\n",
            " 18%|█▊        | 18/100 [00:00<00:04, 18.57it/s]\u001b[A\n",
            " 20%|██        | 20/100 [00:01<00:04, 18.91it/s]\u001b[A\n",
            " 23%|██▎       | 23/100 [00:01<00:03, 19.73it/s]\u001b[A\n",
            " 26%|██▌       | 26/100 [00:01<00:03, 20.13it/s]\u001b[A\n",
            " 29%|██▉       | 29/100 [00:01<00:03, 20.68it/s]\u001b[A\n",
            " 32%|███▏      | 32/100 [00:01<00:03, 20.05it/s]\u001b[A\n",
            " 35%|███▌      | 35/100 [00:01<00:03, 18.41it/s]\u001b[A\n",
            " 37%|███▋      | 37/100 [00:01<00:03, 18.31it/s]\u001b[A\n",
            " 39%|███▉      | 39/100 [00:02<00:03, 17.86it/s]\u001b[A\n",
            " 42%|████▏     | 42/100 [00:02<00:02, 19.53it/s]\u001b[A\n",
            " 45%|████▌     | 45/100 [00:02<00:02, 21.72it/s]\u001b[A\n",
            " 48%|████▊     | 48/100 [00:02<00:02, 23.63it/s]\u001b[A\n",
            " 51%|█████     | 51/100 [00:02<00:01, 24.94it/s]\u001b[A\n",
            " 54%|█████▍    | 54/100 [00:02<00:01, 26.20it/s]\u001b[A\n",
            " 57%|█████▋    | 57/100 [00:02<00:01, 25.98it/s]\u001b[A\n",
            " 60%|██████    | 60/100 [00:02<00:01, 24.24it/s]\u001b[A\n",
            " 63%|██████▎   | 63/100 [00:02<00:01, 25.06it/s]\u001b[A\n",
            " 66%|██████▌   | 66/100 [00:03<00:01, 26.08it/s]\u001b[A\n",
            " 69%|██████▉   | 69/100 [00:03<00:01, 26.95it/s]\u001b[A\n",
            " 72%|███████▏  | 72/100 [00:03<00:01, 27.56it/s]\u001b[A\n",
            " 75%|███████▌  | 75/100 [00:03<00:00, 28.07it/s]\u001b[A\n",
            " 78%|███████▊  | 78/100 [00:03<00:00, 28.32it/s]\u001b[A\n",
            " 81%|████████  | 81/100 [00:03<00:00, 27.98it/s]\u001b[A\n",
            " 84%|████████▍ | 84/100 [00:03<00:00, 26.91it/s]\u001b[A\n",
            " 87%|████████▋ | 87/100 [00:03<00:00, 26.19it/s]\u001b[A\n",
            " 90%|█████████ | 90/100 [00:03<00:00, 25.84it/s]\u001b[A\n",
            " 94%|█████████▍| 94/100 [00:04<00:00, 27.66it/s]\u001b[A\n",
            " 97%|█████████▋| 97/100 [00:04<00:00, 28.13it/s]\u001b[A\n",
            "100%|██████████| 100/100 [00:04<00:00, 23.28it/s]\n"
          ]
        },
        {
          "data": {
            "image/png": "[encoded data removed]",
            "text/plain": [
              "<Figure size 800x800 with 1 Axes>"
            ]
          },
          "metadata": {},
          "output_type": "display_data"
        },
        {
          "name": "stderr",
          "output_type": "stream",
          "text": [
            "loss: 0.1229:   0%|          | 2/3125 [02:42<72:21:59, 83.42s/it]\n",
            "  0%|          | 0/100 [00:00<?, ?it/s]\u001b[A\n",
            "  4%|▍         | 4/100 [00:00<00:03, 30.50it/s]\u001b[A\n",
            "  8%|▊         | 8/100 [00:00<00:03, 28.89it/s]\u001b[A\n",
            " 11%|█         | 11/100 [00:00<00:03, 28.77it/s]\u001b[A\n",
            " 14%|█▍        | 14/100 [00:00<00:03, 28.61it/s]\u001b[A\n",
            " 17%|█▋        | 17/100 [00:00<00:03, 26.16it/s]\u001b[A\n",
            " 20%|██        | 20/100 [00:00<00:02, 27.27it/s]\u001b[A\n",
            " 23%|██▎       | 23/100 [00:00<00:02, 27.49it/s]\u001b[A\n",
            " 26%|██▌       | 26/100 [00:00<00:02, 27.93it/s]\u001b[A\n",
            " 29%|██▉       | 29/100 [00:01<00:02, 28.20it/s]\u001b[A\n",
            " 32%|███▏      | 32/100 [00:01<00:02, 28.52it/s]\u001b[A\n",
            " 35%|███▌      | 35/100 [00:01<00:02, 26.91it/s]\u001b[A\n",
            " 38%|███▊      | 38/100 [00:01<00:02, 27.47it/s]\u001b[A\n",
            " 41%|████      | 41/100 [00:01<00:02, 24.92it/s]\u001b[A\n",
            " 44%|████▍     | 44/100 [00:01<00:02, 21.34it/s]\u001b[A\n",
            " 47%|████▋     | 47/100 [00:01<00:02, 19.59it/s]\u001b[A\n",
            " 50%|█████     | 50/100 [00:02<00:02, 20.11it/s]\u001b[A\n",
            " 53%|█████▎    | 53/100 [00:02<00:02, 20.22it/s]\u001b[A\n",
            " 56%|█████▌    | 56/100 [00:02<00:02, 19.92it/s]\u001b[A\n",
            " 59%|█████▉    | 59/100 [00:02<00:02, 19.96it/s]\u001b[A\n",
            " 62%|██████▏   | 62/100 [00:02<00:01, 19.00it/s]\u001b[A\n",
            " 64%|██████▍   | 64/100 [00:02<00:01, 19.13it/s]\u001b[A\n",
            " 66%|██████▌   | 66/100 [00:02<00:01, 19.17it/s]\u001b[A\n",
            " 68%|██████▊   | 68/100 [00:02<00:01, 19.11it/s]\u001b[A\n",
            " 71%|███████   | 71/100 [00:03<00:01, 20.16it/s]\u001b[A\n",
            " 74%|███████▍  | 74/100 [00:03<00:01, 20.48it/s]\u001b[A\n",
            " 77%|███████▋  | 77/100 [00:03<00:01, 20.28it/s]\u001b[A\n",
            " 80%|████████  | 80/100 [00:03<00:00, 20.19it/s]\u001b[A\n",
            " 83%|████████▎ | 83/100 [00:03<00:00, 19.26it/s]\u001b[A\n",
            " 85%|████████▌ | 85/100 [00:03<00:00, 19.19it/s]\u001b[A\n",
            " 87%|████████▋ | 87/100 [00:03<00:00, 19.35it/s]\u001b[A\n",
            " 90%|█████████ | 90/100 [00:04<00:00, 20.01it/s]\u001b[A\n",
            " 93%|█████████▎| 93/100 [00:04<00:00, 19.59it/s]\u001b[A\n",
            " 95%|█████████▌| 95/100 [00:04<00:00, 19.40it/s]\u001b[A\n",
            " 97%|█████████▋| 97/100 [00:04<00:00, 18.74it/s]\u001b[A\n",
            "100%|██████████| 100/100 [00:04<00:00, 21.52it/s]\n"
          ]
        },
        {
          "data": {
            "image/png": "[encoded data removed]",
            "text/plain": [
              "<Figure size 800x800 with 1 Axes>"
            ]
          },
          "metadata": {},
          "output_type": "display_data"
        },
        {
          "name": "stderr",
          "output_type": "stream",
          "text": [
            "loss: 0.1135:   0%|          | 3/3125 [04:15<75:57:58, 87.60s/it]\n",
            "  0%|          | 0/100 [00:00<?, ?it/s]\u001b[A\n",
            "  4%|▍         | 4/100 [00:00<00:02, 32.94it/s]\u001b[A\n",
            "  8%|▊         | 8/100 [00:00<00:03, 29.88it/s]\u001b[A\n",
            " 12%|█▏        | 12/100 [00:00<00:03, 28.20it/s]\u001b[A\n",
            " 15%|█▌        | 15/100 [00:00<00:03, 27.66it/s]\u001b[A\n",
            " 18%|█▊        | 18/100 [00:00<00:02, 28.35it/s]\u001b[A\n",
            " 22%|██▏       | 22/100 [00:00<00:02, 29.49it/s]\u001b[A\n",
            " 25%|██▌       | 25/100 [00:00<00:02, 29.04it/s]\u001b[A\n",
            " 28%|██▊       | 28/100 [00:00<00:02, 28.89it/s]\u001b[A\n",
            " 31%|███       | 31/100 [00:01<00:02, 28.67it/s]\u001b[A\n",
            " 34%|███▍      | 34/100 [00:01<00:02, 28.52it/s]\u001b[A\n",
            " 38%|███▊      | 38/100 [00:01<00:02, 29.53it/s]\u001b[A\n",
            " 41%|████      | 41/100 [00:01<00:02, 26.16it/s]\u001b[A\n",
            " 44%|████▍     | 44/100 [00:01<00:02, 26.17it/s]\u001b[A\n",
            " 47%|████▋     | 47/100 [00:01<00:01, 26.61it/s]\u001b[A\n",
            " 50%|█████     | 50/100 [00:01<00:01, 27.52it/s]\u001b[A\n",
            " 53%|█████▎    | 53/100 [00:01<00:01, 27.83it/s]\u001b[A\n",
            " 56%|█████▌    | 56/100 [00:01<00:01, 28.25it/s]\u001b[A\n",
            " 59%|█████▉    | 59/100 [00:02<00:01, 27.57it/s]\u001b[A\n",
            " 62%|██████▏   | 62/100 [00:02<00:01, 28.14it/s]\u001b[A\n",
            " 65%|██████▌   | 65/100 [00:02<00:01, 28.47it/s]\u001b[A\n",
            " 68%|██████▊   | 68/100 [00:02<00:01, 25.58it/s]\u001b[A\n",
            " 71%|███████   | 71/100 [00:02<00:01, 26.55it/s]\u001b[A\n",
            " 74%|███████▍  | 74/100 [00:02<00:01, 25.88it/s]\u001b[A\n",
            " 77%|███████▋  | 77/100 [00:02<00:00, 26.93it/s]\u001b[A\n",
            " 80%|████████  | 80/100 [00:02<00:00, 27.26it/s]\u001b[A\n",
            " 83%|████████▎ | 83/100 [00:02<00:00, 27.52it/s]\u001b[A\n",
            " 86%|████████▌ | 86/100 [00:03<00:00, 27.70it/s]\u001b[A\n",
            " 89%|████████▉ | 89/100 [00:03<00:00, 27.98it/s]\u001b[A\n",
            " 92%|█████████▏| 92/100 [00:03<00:00, 28.38it/s]\u001b[A\n",
            " 95%|█████████▌| 95/100 [00:03<00:00, 25.88it/s]\u001b[A\n",
            "100%|██████████| 100/100 [00:03<00:00, 27.52it/s]\n"
          ]
        },
        {
          "data": {
            "image/png": "[encoded data removed]",
            "text/plain": [
              "<Figure size 800x800 with 1 Axes>"
            ]
          },
          "metadata": {},
          "output_type": "display_data"
        },
        {
          "name": "stderr",
          "output_type": "stream",
          "text": [
            "loss: 0.0602:   0%|          | 4/3125 [05:47<77:28:50, 89.37s/it]\n",
            "loss: 0.0602:   0%|          | 4/3125 [05:47<75:22:26, 86.94s/it]\n",
            "100%|██████████| 100/100 [00:03<00:00, 31.09it/s]\n"
          ]
        },
        {
          "data": {
            "image/png": "[encoded data removed]",
            "text/plain": [
              "<Figure size 800x800 with 1 Axes>"
            ]
          },
          "metadata": {},
          "output_type": "display_data"
        },
        {
          "name": "stderr",
          "output_type": "stream",
          "text": [
            "\n",
            "loss: 0.1000:   0%|          | 0/3125 [01:32<?, ?it/s]\u001b[A\n",
            "100%|██████████| 100/100 [00:03<00:00, 30.84it/s]\n"
          ]
        },
        {
          "data": {
            "image/png": "[encoded data removed]",
            "text/plain": [
              "<Figure size 800x800 with 1 Axes>"
            ]
          },
          "metadata": {},
          "output_type": "display_data"
        },
        {
          "name": "stderr",
          "output_type": "stream",
          "text": [
            "\n",
            "loss: 0.0952:   0%|          | 1/3125 [03:05<80:41:36, 92.99s/it]\u001b[A\n",
            "100%|██████████| 100/100 [00:04<00:00, 22.16it/s]\n"
          ]
        },
        {
          "data": {
            "image/png": "[encoded data removed]",
            "text/plain": [
              "<Figure size 800x800 with 1 Axes>"
            ]
          },
          "metadata": {},
          "output_type": "display_data"
        },
        {
          "name": "stderr",
          "output_type": "stream",
          "text": [
            "\n",
            "loss: 0.1143:   0%|          | 2/3125 [04:38<80:38:51, 92.97s/it]\u001b[A\n",
            "loss: 0.1143:   0%|          | 3/3125 [04:38<80:22:11, 92.67s/it]\u001b[A"
          ]
        }
      ],
      "source": [
        "learning_rate = 1e-3\n",
        "num_epochs = 5\n",
        "\n",
        "adam_betas = (0.9, 0.99)\n",
        "opt = optim.AdamW(model.parameters(), lr=learning_rate, betas=adam_betas)\n",
        "\n",
        "ema_update_every = 10\n",
        "ema_decay = 0.995\n",
        "ema = EMA(model, beta=ema_decay, update_every=ema_update_every)\n",
        "ema.to(device)\n",
        "\n",
        "save_and_sample_every = 1000\n",
        "num_samples = 5\n",
        "save_models = False\n",
        "results_folder = Path(\"./diffusion_results\")\n",
        "results_folder.mkdir(exist_ok=True)\n",
        "\n",
        "step = 0\n",
        "total_loss = 0.0\n",
        "\n",
        "def save(milestone: int) -> None:\n",
        "    data = {\n",
        "        \"step\": step,\n",
        "        \"model\": model.model.state_dict(),\n",
        "        \"opt\": opt.state_dict(),\n",
        "        \"ema\": ema.state_dict(),\n",
        "        \"version\": \"1.0\",\n",
        "    }\n",
        "\n",
        "    torch.save(data, str(results_folder / f\"model-{milestone}.pt\"))\n",
        "\n",
        "\n",
        "def load(milestone: int, is_old_model: bool = False) -> None:\n",
        "    data = torch.load(\n",
        "        str(results_folder / f\"model-{milestone}.pt\"),\n",
        "        map_location=device,\n",
        "    )\n",
        "\n",
        "    model.model.load_state_dict(data[\"model\"])\n",
        "\n",
        "    step = data[\"step\"]\n",
        "    opt.load_state_dict(data[\"opt\"])\n",
        "    ema.load_state_dict(data[\"ema\"])\n",
        "\n",
        "    if \"version\" in data:\n",
        "        print(f\"loading from version {data['version']}\")\n",
        "\n",
        "\n",
        "for epoch in range(num_epochs):\n",
        "    logging.info(f\"Starting epoch {epoch}:\")\n",
        "    pbar = tqdm(dataloader)\n",
        "    for i, (images, labels) in enumerate(data_loader):\n",
        "        images = images.to(device)\n",
        "\n",
        "        # Use unconditonal training 10% of the time\n",
        "        if np.random.random() < 0.1:\n",
        "            labels = None\n",
        "        else:\n",
        "            labels = labels.to(device)\n",
        "\n",
        "        loss = model(images, labels)\n",
        "        opt.zero_grad()\n",
        "        loss.backward()\n",
        "        opt.step()\n",
        "\n",
        "        total_loss += loss.item()\n",
        "\n",
        "        step += 1\n",
        "        ema.update()\n",
        "\n",
        "        if step % save_and_sample_every == 0:\n",
        "            ema.ema_model.eval()\n",
        "\n",
        "            with torch.inference_mode():\n",
        "                milestone = step // save_and_sample_every\n",
        "                labels = torch.randint(0, num_classes, (num_samples,), device=device)\n",
        "                cfg = torch.linspace(0, 2, num_samples, device=device).reshape((num_samples,1,1,1))\n",
        "                sampled_imgs = ema.ema_model.sample(num_samples, labels, cfg)\n",
        "\n",
        "            for ix, sampled_img in enumerate(sampled_imgs):\n",
        "                vutils.save_image(\n",
        "                    sampled_img,\n",
        "                    str(results_folder / f\"sample-{milestone}-{ix}.png\"),\n",
        "                )\n",
        "\n",
        "            plt.figure(figsize=(8,8))\n",
        "            plt.axis(\"off\")\n",
        "            plt.title(\"Training Images\")\n",
        "            plt.imshow(np.transpose(vutils.make_grid(sampled_imgs.to(device)[:64], padding=2, normalize=True).cpu(),(1,2,0)))\n",
        "            plt.show()\n",
        "\n",
        "            if save_models:\n",
        "                save(milestone)\n",
        "\n",
        "            pbar.set_description(f\"loss: {loss.item():.4f}\")\n",
        "            pbar.update(1)"
      ]
    },
    {
      "cell_type": "code",
      "execution_count": 105,
      "metadata": {
        "id": "vFm6YnJwnQ6F"
      },
      "outputs": [],
      "source": []
    }
  ],
  "metadata": {
    "colab": {
      "provenance": []
    },
    "kernelspec": {
      "display_name": "Python 3",
      "name": "python3"
    },
    "language_info": {
      "name": "python"
    }
  },
  "nbformat": 4,
  "nbformat_minor": 0
}
